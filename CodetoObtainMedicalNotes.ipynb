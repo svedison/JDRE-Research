{
  "nbformat": 4,
  "nbformat_minor": 0,
  "metadata": {
    "colab": {
      "provenance": [],
      "authorship_tag": "ABX9TyMkFYxncvO8owbs7iBbR7sn",
      "include_colab_link": true
    },
    "kernelspec": {
      "name": "python3",
      "display_name": "Python 3"
    },
    "language_info": {
      "name": "python"
    }
  },
  "cells": [
    {
      "cell_type": "markdown",
      "metadata": {
        "id": "view-in-github",
        "colab_type": "text"
      },
      "source": [
        "<a href=\"https://colab.research.google.com/github/svedison/JDRE-Research/blob/main/CodetoObtainMedicalNotes.ipynb\" target=\"_parent\"><img src=\"https://colab.research.google.com/assets/colab-badge.svg\" alt=\"Open In Colab\"/></a>"
      ]
    },
    {
      "cell_type": "code",
      "execution_count": null,
      "metadata": {
        "colab": {
          "base_uri": "https://localhost:8080/"
        },
        "id": "7P6Nr-aGQbdb",
        "outputId": "c571b076-aecd-498a-c23d-4cfa267fbc68"
      },
      "outputs": [
        {
          "output_type": "stream",
          "name": "stdout",
          "text": [
            "Requirement already satisfied: pandas in /usr/local/lib/python3.11/dist-packages (2.2.2)\n",
            "Requirement already satisfied: numpy>=1.23.2 in /usr/local/lib/python3.11/dist-packages (from pandas) (2.0.2)\n",
            "Requirement already satisfied: python-dateutil>=2.8.2 in /usr/local/lib/python3.11/dist-packages (from pandas) (2.9.0.post0)\n",
            "Requirement already satisfied: pytz>=2020.1 in /usr/local/lib/python3.11/dist-packages (from pandas) (2025.2)\n",
            "Requirement already satisfied: tzdata>=2022.7 in /usr/local/lib/python3.11/dist-packages (from pandas) (2025.2)\n",
            "Requirement already satisfied: six>=1.5 in /usr/local/lib/python3.11/dist-packages (from python-dateutil>=2.8.2->pandas) (1.17.0)\n"
          ]
        }
      ],
      "source": [
        "pip install pandas"
      ]
    },
    {
      "cell_type": "code",
      "source": [
        "#if you only use the NOTEEVENTS.csv file\n",
        "import pandas as pd\n",
        "\n",
        "# Load the NOTEEVENTS.csv file (adjust path as necessary)\n",
        "df_notes = pd.read_csv(\"NOTEEVENTS 2.csv\")\n",
        "\n",
        "# Display the first few rows to understand structure (optional)\n",
        "#print(df_notes.head())\n",
        "\n",
        "# Select columns of interest\n",
        "columns_to_keep = ['SUBJECT_ID', 'HADM_ID', 'CHARTDATE', 'CATEGORY', 'DESCRIPTION', 'TEXT']\n",
        "df_notes = df_notes[columns_to_keep]\n",
        "\n",
        "# Optional: Filter by specific note types (e.g., discharge summaries only)\n",
        "df_notes = df_notes[df_notes['CATEGORY'] == 'Discharge summary']\n",
        "\n",
        "# Optional: Drop rows with missing TEXT or HADM_ID (depends on your needs)\n",
        "df_notes = df_notes.dropna(subset=['TEXT', 'HADM_ID'])\n",
        "\n",
        "# Optional: Combine multiple notes per HADM_ID or SUBJECT_ID if needed\n",
        "# Example: Combine all notes per HADM_ID into one string\n",
        "combined_notes = df_notes.groupby(['SUBJECT_ID', 'HADM_ID'])['TEXT'].apply(lambda x: '\\n\\n'.join(x)).reset_index()\n",
        "\n",
        "# Save to CSV or use in-memory\n",
        "combined_notes.to_csv('combined_medical_notes.csv', index=False)\n",
        "\n",
        "print(\"Combined notes saved to 'combined_medical_notes.csv'\")\n",
        "\n",
        "notes_df = pd.read_csv('combined_medical_notes.csv')\n",
        "print(notes_df.head())"
      ],
      "metadata": {
        "id": "tka4pyR8Y2HY"
      },
      "execution_count": null,
      "outputs": []
    },
    {
      "cell_type": "code",
      "source": [
        "import pandas as pd"
      ],
      "metadata": {
        "id": "La4uofOjQj_K"
      },
      "execution_count": null,
      "outputs": []
    },
    {
      "cell_type": "code",
      "source": [
        "#convert from .csv.gz to csv\n",
        "df = pd.read_csv('PATIENTS.csv.gz')\n",
        "df.to_csv('PATIENTS.csv', index=False)"
      ],
      "metadata": {
        "id": "WNXOPRS2Q2Q_"
      },
      "execution_count": null,
      "outputs": []
    },
    {
      "cell_type": "code",
      "source": [
        "#get base path\n",
        "import os\n",
        "full_path = '/Users/emaseibert/physionet.org/files/mimiciii/1.4/PATIENTS.csv'\n",
        "base_path = os.path.dirname(full_path)\n",
        "print(\"Base path is:\", base_path)"
      ],
      "metadata": {
        "id": "pvDVxpvfRHDA"
      },
      "execution_count": null,
      "outputs": []
    },
    {
      "cell_type": "code",
      "source": [
        "# Load relevant tables\n",
        "path_base = base_path\n",
        "patients = pd.read_csv(path_base + '/PATIENTS.csv')\n",
        "admissions = pd.read_csv(path_base + '/ADMISSIONS.csv')\n",
        "noteevents = pd.read_csv(path_base + '/NOTEEVENTS 2.csv', low_memory=False)"
      ],
      "metadata": {
        "id": "4YAjRrHyQ3m8"
      },
      "execution_count": null,
      "outputs": []
    },
    {
      "cell_type": "code",
      "source": [
        "#see the different columns\n",
        "print(patients.columns)\n",
        "print(admissions.columns)\n",
        "print(noteevents.columns)"
      ],
      "metadata": {
        "id": "V-d1fAm4RGE_"
      },
      "execution_count": null,
      "outputs": []
    },
    {
      "cell_type": "code",
      "source": [
        "#observe that patients columns are all lower-cased so capitalize before merging\n",
        "# Convert all column names to uppercase\n",
        "patients.columns = patients.columns.str.upper()\n",
        "\n",
        "print(\"\\nDataFrame columns after conversion:\")\n",
        "print(patients.columns)"
      ],
      "metadata": {
        "id": "jFb1t1RpRaS1"
      },
      "execution_count": null,
      "outputs": []
    },
    {
      "cell_type": "code",
      "source": [
        "# Drop deidentified text (if needed)\n",
        "noteevents = noteevents.dropna(subset=['TEXT'])\n",
        "\n",
        "# Join NOTEEVENTS with ADMISSIONS on SUBJECT_ID and HADM_ID\n",
        "notes_admissions = pd.merge(noteevents, admissions, on=['SUBJECT_ID', 'HADM_ID'], how='left')\n",
        "\n",
        "# Join with PATIENTS on SUBJECT_ID\n",
        "full_notes = pd.merge(notes_admissions, patients, on='SUBJECT_ID', how='left')\n",
        "\n",
        "# Keep only desired columns\n",
        "final_columns = [\n",
        "    'SUBJECT_ID', 'HADM_ID', 'CHARTDATE', 'CATEGORY', 'DESCRIPTION', 'TEXT',\n",
        "    'ADMITTIME', 'DISCHTIME', 'DIAGNOSIS',\n",
        "    'GENDER', 'DOD'\n",
        "]\n",
        "final_notes = full_notes[final_columns]\n",
        "\n",
        "# Remove notes without admission info\n",
        "final_notes = final_notes.dropna(subset=['HADM_ID'])\n",
        "\n",
        "# Save to file\n",
        "final_notes.to_csv('combined_mimic_medical_notes.csv', index=False)"
      ],
      "metadata": {
        "id": "L_BRJxvpRhik"
      },
      "execution_count": null,
      "outputs": []
    },
    {
      "cell_type": "markdown",
      "source": [
        "NOTEEVENTS.csv contains the clinical notes.\n",
        "ROW_ID (unique row identifier)\n",
        "SUBJECT_ID (patient identifier)\n",
        "HADM_ID (unique hospital admission id)\n",
        "CHARTDATE (date note written)\n",
        "CHARTTIME (time note written)\n",
        "STORETIME (not used)\n",
        "CATEGORY (type note)\n",
        "DESCRIPTION (note description)\n",
        "CGID (not used)\n",
        "ISERROR (not used)\n",
        "TEXT (full free-text clinical note)"
      ],
      "metadata": {
        "id": "nmTjErmISjW6"
      }
    },
    {
      "cell_type": "markdown",
      "source": [
        "Combine NOTEEVENTS.csv with PATIENTS.csv and ADMISSIONS.csv to add gender and dod from patients.csv; hospital mortality, admission type, admit time, discharge time from admissions.csv."
      ],
      "metadata": {
        "id": "mTGYeyRnT999"
      }
    },
    {
      "cell_type": "code",
      "source": [
        "#Make a dataframe from the new csv file with merged columns\n",
        "notes_df = pd.read_csv('combined_mimic_medical_notes.csv')\n",
        "\n",
        "notes_df = notes_df[notes_df['TEST'].notnull()]\n",
        "clean_df = notes_df[['SUBJECT_ID', 'HADM_ID', 'CHARTDATE', 'CATEGORY', 'DESCRIPTION', 'TEXT',\n",
        "    'ADMITTIME', 'DISCHTIME', 'DIAGNOSIS',\n",
        "    'GENDER', 'DOD']]\n",
        "\n",
        "print(clean_df.head())\n",
        "\n",
        "#SUBJECT_ID: unique identifier for each patient (all)\n",
        "#HADM_ID: unique identifier for each hospital admission (admissions, noteevents)\n",
        "#CHARTDATE: date when clinical note was added/recorded (noteevents)\n",
        "#CATEGORY: category of clincial note - physician note, nursing note, discharge summary, etc (noteevents)\n",
        "#DESCRIPTION: short label/description of clinical note added (noteevents)\n",
        "#TEXT: full free-text content of clinical note (noteevents)\n",
        "#ADMITTIME: time stamp when patient was admitted (admissions)\n",
        "#DISCHTIME: time stamp when patient was discharged from the hospital (admissions)\n",
        "#DIAGNOSIS: general diagnosis given at discharge (admissions)\n",
        "#GENDER: patient's gender male or female (patients)\n",
        "#DOD: date patient died if applicable else null (patients)"
      ],
      "metadata": {
        "id": "seXRatI2S2YY"
      },
      "execution_count": null,
      "outputs": []
    }
  ]
}